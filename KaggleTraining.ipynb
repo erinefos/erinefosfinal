{
 "cells": [
  {
   "cell_type": "code",
   "execution_count": 2,
   "id": "9927ce63-3da6-4ef7-8bfd-98f52b0a1d11",
   "metadata": {},
   "outputs": [],
   "source": [
    "import numpy as np\n",
    "import pandas as pd\n",
    "from sklearn.model_selection import train_test_split\n",
    "from sklearn.linear_model import LogisticRegression\n",
    "from sklearn.metrics import accuracy_score, confusion_matrix, classification_report"
   ]
  },
  {
   "cell_type": "markdown",
   "id": "13290b29-0952-41f7-9d33-bf147f55ba6f",
   "metadata": {
    "jp-MarkdownHeadingCollapsed": true
   },
   "source": [
    "### Preparing the dataset"
   ]
  },
  {
   "cell_type": "code",
   "execution_count": 4,
   "id": "36ff637b-b447-41ce-b854-b3bef2536fcb",
   "metadata": {},
   "outputs": [],
   "source": [
    "filepath1 = \"/Users/e/DATA3402.Fall.2024/Labs/Kaggle.Data.Project/widsdatathon2024-challenge1/training.csv\"\n",
    "filepath2 = \"/Users/e/DATA3402.Fall.2024/Labs/Kaggle.Data.Project/widsdatathon2024-challenge1/test.csv\""
   ]
  },
  {
   "cell_type": "code",
   "execution_count": 6,
   "id": "e9a7e6de-6ab0-4782-9144-e4ae29e98f26",
   "metadata": {},
   "outputs": [],
   "source": [
    "df_train = pd.read_csv(filepath1)\n",
    "df_test = pd.read_csv(filepath2)"
   ]
  },
  {
   "cell_type": "code",
   "execution_count": 8,
   "id": "8e3e786a-1f28-4f06-874e-fd3f9ac829a3",
   "metadata": {},
   "outputs": [
    {
     "data": {
      "text/html": [
       "<div>\n",
       "<style scoped>\n",
       "    .dataframe tbody tr th:only-of-type {\n",
       "        vertical-align: middle;\n",
       "    }\n",
       "\n",
       "    .dataframe tbody tr th {\n",
       "        vertical-align: top;\n",
       "    }\n",
       "\n",
       "    .dataframe thead th {\n",
       "        text-align: right;\n",
       "    }\n",
       "</style>\n",
       "<table border=\"1\" class=\"dataframe\">\n",
       "  <thead>\n",
       "    <tr style=\"text-align: right;\">\n",
       "      <th></th>\n",
       "      <th>patient_id</th>\n",
       "      <th>patient_race</th>\n",
       "      <th>payer_type</th>\n",
       "      <th>patient_state</th>\n",
       "      <th>patient_zip3</th>\n",
       "      <th>patient_age</th>\n",
       "      <th>patient_gender</th>\n",
       "      <th>bmi</th>\n",
       "      <th>breast_cancer_diagnosis_code</th>\n",
       "      <th>breast_cancer_diagnosis_desc</th>\n",
       "      <th>...</th>\n",
       "      <th>disabled</th>\n",
       "      <th>poverty</th>\n",
       "      <th>limited_english</th>\n",
       "      <th>commute_time</th>\n",
       "      <th>health_uninsured</th>\n",
       "      <th>veteran</th>\n",
       "      <th>Ozone</th>\n",
       "      <th>PM25</th>\n",
       "      <th>N02</th>\n",
       "      <th>DiagPeriodL90D</th>\n",
       "    </tr>\n",
       "  </thead>\n",
       "  <tbody>\n",
       "    <tr>\n",
       "      <th>0</th>\n",
       "      <td>475714</td>\n",
       "      <td>NaN</td>\n",
       "      <td>MEDICAID</td>\n",
       "      <td>CA</td>\n",
       "      <td>924</td>\n",
       "      <td>84</td>\n",
       "      <td>F</td>\n",
       "      <td>NaN</td>\n",
       "      <td>C50919</td>\n",
       "      <td>Malignant neoplasm of unsp site of unspecified...</td>\n",
       "      <td>...</td>\n",
       "      <td>12.871429</td>\n",
       "      <td>22.542857</td>\n",
       "      <td>10.100000</td>\n",
       "      <td>27.814286</td>\n",
       "      <td>11.200000</td>\n",
       "      <td>3.500000</td>\n",
       "      <td>52.237210</td>\n",
       "      <td>8.650555</td>\n",
       "      <td>18.606528</td>\n",
       "      <td>1</td>\n",
       "    </tr>\n",
       "    <tr>\n",
       "      <th>1</th>\n",
       "      <td>349367</td>\n",
       "      <td>White</td>\n",
       "      <td>COMMERCIAL</td>\n",
       "      <td>CA</td>\n",
       "      <td>928</td>\n",
       "      <td>62</td>\n",
       "      <td>F</td>\n",
       "      <td>28.49</td>\n",
       "      <td>C50411</td>\n",
       "      <td>Malig neoplm of upper-outer quadrant of right ...</td>\n",
       "      <td>...</td>\n",
       "      <td>8.957576</td>\n",
       "      <td>10.109091</td>\n",
       "      <td>8.057576</td>\n",
       "      <td>30.606061</td>\n",
       "      <td>7.018182</td>\n",
       "      <td>4.103030</td>\n",
       "      <td>42.301121</td>\n",
       "      <td>8.487175</td>\n",
       "      <td>20.113179</td>\n",
       "      <td>1</td>\n",
       "    </tr>\n",
       "    <tr>\n",
       "      <th>2</th>\n",
       "      <td>138632</td>\n",
       "      <td>White</td>\n",
       "      <td>COMMERCIAL</td>\n",
       "      <td>TX</td>\n",
       "      <td>760</td>\n",
       "      <td>43</td>\n",
       "      <td>F</td>\n",
       "      <td>38.09</td>\n",
       "      <td>C50112</td>\n",
       "      <td>Malignant neoplasm of central portion of left ...</td>\n",
       "      <td>...</td>\n",
       "      <td>11.253333</td>\n",
       "      <td>9.663333</td>\n",
       "      <td>3.356667</td>\n",
       "      <td>31.394915</td>\n",
       "      <td>15.066667</td>\n",
       "      <td>7.446667</td>\n",
       "      <td>40.108207</td>\n",
       "      <td>7.642753</td>\n",
       "      <td>14.839351</td>\n",
       "      <td>1</td>\n",
       "    </tr>\n",
       "    <tr>\n",
       "      <th>3</th>\n",
       "      <td>617843</td>\n",
       "      <td>White</td>\n",
       "      <td>COMMERCIAL</td>\n",
       "      <td>CA</td>\n",
       "      <td>926</td>\n",
       "      <td>45</td>\n",
       "      <td>F</td>\n",
       "      <td>NaN</td>\n",
       "      <td>C50212</td>\n",
       "      <td>Malig neoplasm of upper-inner quadrant of left...</td>\n",
       "      <td>...</td>\n",
       "      <td>8.845238</td>\n",
       "      <td>8.688095</td>\n",
       "      <td>5.280952</td>\n",
       "      <td>27.561905</td>\n",
       "      <td>4.404762</td>\n",
       "      <td>4.809524</td>\n",
       "      <td>42.070075</td>\n",
       "      <td>7.229393</td>\n",
       "      <td>15.894123</td>\n",
       "      <td>0</td>\n",
       "    </tr>\n",
       "    <tr>\n",
       "      <th>4</th>\n",
       "      <td>817482</td>\n",
       "      <td>NaN</td>\n",
       "      <td>COMMERCIAL</td>\n",
       "      <td>ID</td>\n",
       "      <td>836</td>\n",
       "      <td>55</td>\n",
       "      <td>F</td>\n",
       "      <td>NaN</td>\n",
       "      <td>1749</td>\n",
       "      <td>Malignant neoplasm of breast (female), unspeci...</td>\n",
       "      <td>...</td>\n",
       "      <td>15.276000</td>\n",
       "      <td>11.224000</td>\n",
       "      <td>1.946000</td>\n",
       "      <td>26.170213</td>\n",
       "      <td>12.088000</td>\n",
       "      <td>13.106000</td>\n",
       "      <td>41.356058</td>\n",
       "      <td>4.110749</td>\n",
       "      <td>11.722197</td>\n",
       "      <td>0</td>\n",
       "    </tr>\n",
       "  </tbody>\n",
       "</table>\n",
       "<p>5 rows × 83 columns</p>\n",
       "</div>"
      ],
      "text/plain": [
       "   patient_id patient_race  payer_type patient_state  patient_zip3  \\\n",
       "0      475714          NaN    MEDICAID            CA           924   \n",
       "1      349367        White  COMMERCIAL            CA           928   \n",
       "2      138632        White  COMMERCIAL            TX           760   \n",
       "3      617843        White  COMMERCIAL            CA           926   \n",
       "4      817482          NaN  COMMERCIAL            ID           836   \n",
       "\n",
       "   patient_age patient_gender    bmi breast_cancer_diagnosis_code  \\\n",
       "0           84              F    NaN                       C50919   \n",
       "1           62              F  28.49                       C50411   \n",
       "2           43              F  38.09                       C50112   \n",
       "3           45              F    NaN                       C50212   \n",
       "4           55              F    NaN                         1749   \n",
       "\n",
       "                        breast_cancer_diagnosis_desc  ...   disabled  \\\n",
       "0  Malignant neoplasm of unsp site of unspecified...  ...  12.871429   \n",
       "1  Malig neoplm of upper-outer quadrant of right ...  ...   8.957576   \n",
       "2  Malignant neoplasm of central portion of left ...  ...  11.253333   \n",
       "3  Malig neoplasm of upper-inner quadrant of left...  ...   8.845238   \n",
       "4  Malignant neoplasm of breast (female), unspeci...  ...  15.276000   \n",
       "\n",
       "     poverty limited_english commute_time health_uninsured    veteran  \\\n",
       "0  22.542857       10.100000    27.814286        11.200000   3.500000   \n",
       "1  10.109091        8.057576    30.606061         7.018182   4.103030   \n",
       "2   9.663333        3.356667    31.394915        15.066667   7.446667   \n",
       "3   8.688095        5.280952    27.561905         4.404762   4.809524   \n",
       "4  11.224000        1.946000    26.170213        12.088000  13.106000   \n",
       "\n",
       "       Ozone      PM25        N02  DiagPeriodL90D  \n",
       "0  52.237210  8.650555  18.606528               1  \n",
       "1  42.301121  8.487175  20.113179               1  \n",
       "2  40.108207  7.642753  14.839351               1  \n",
       "3  42.070075  7.229393  15.894123               0  \n",
       "4  41.356058  4.110749  11.722197               0  \n",
       "\n",
       "[5 rows x 83 columns]"
      ]
     },
     "execution_count": 8,
     "metadata": {},
     "output_type": "execute_result"
    }
   ],
   "source": [
    "df_train.head()"
   ]
  },
  {
   "cell_type": "code",
   "execution_count": 10,
   "id": "558c73fc-05d8-4eb2-a1a1-ba941bb67596",
   "metadata": {},
   "outputs": [
    {
     "data": {
      "text/plain": [
       "Index(['patient_id', 'patient_race', 'payer_type', 'patient_state',\n",
       "       'patient_zip3', 'patient_age', 'patient_gender', 'bmi',\n",
       "       'breast_cancer_diagnosis_code', 'breast_cancer_diagnosis_desc',\n",
       "       'metastatic_cancer_diagnosis_code', 'metastatic_first_novel_treatment',\n",
       "       'metastatic_first_novel_treatment_type', 'Region', 'Division',\n",
       "       'population', 'density', 'age_median', 'age_under_10', 'age_10_to_19',\n",
       "       'age_20s', 'age_30s', 'age_40s', 'age_50s', 'age_60s', 'age_70s',\n",
       "       'age_over_80', 'male', 'female', 'married', 'divorced', 'never_married',\n",
       "       'widowed', 'family_size', 'family_dual_income',\n",
       "       'income_household_median', 'income_household_under_5',\n",
       "       'income_household_5_to_10', 'income_household_10_to_15',\n",
       "       'income_household_15_to_20', 'income_household_20_to_25',\n",
       "       'income_household_25_to_35', 'income_household_35_to_50',\n",
       "       'income_household_50_to_75', 'income_household_75_to_100',\n",
       "       'income_household_100_to_150', 'income_household_150_over',\n",
       "       'income_household_six_figure', 'income_individual_median',\n",
       "       'home_ownership', 'housing_units', 'home_value', 'rent_median',\n",
       "       'rent_burden', 'education_less_highschool', 'education_highschool',\n",
       "       'education_some_college', 'education_bachelors', 'education_graduate',\n",
       "       'education_college_or_above', 'education_stem_degree',\n",
       "       'labor_force_participation', 'unemployment_rate', 'self_employed',\n",
       "       'farmer', 'race_white', 'race_black', 'race_asian', 'race_native',\n",
       "       'race_pacific', 'race_other', 'race_multiple', 'hispanic', 'disabled',\n",
       "       'poverty', 'limited_english', 'commute_time', 'health_uninsured',\n",
       "       'veteran', 'Ozone', 'PM25', 'N02', 'DiagPeriodL90D'],\n",
       "      dtype='object')"
      ]
     },
     "execution_count": 10,
     "metadata": {},
     "output_type": "execute_result"
    }
   ],
   "source": [
    "df_train.columns"
   ]
  },
  {
   "cell_type": "code",
   "execution_count": 12,
   "id": "87698d03-c464-43fe-8e00-acfb52791c9b",
   "metadata": {},
   "outputs": [],
   "source": [
    "df_train_num = df_train.select_dtypes(include = ['float', 'int']).drop(columns = ['patient_id', 'patient_zip3', 'bmi'])"
   ]
  },
  {
   "cell_type": "code",
   "execution_count": 14,
   "id": "683ce701-3f2c-4a41-a7d3-d827653ee4e5",
   "metadata": {},
   "outputs": [
    {
     "data": {
      "text/plain": [
       "Index(['patient_age', 'population', 'density', 'age_median', 'age_under_10',\n",
       "       'age_10_to_19', 'age_20s', 'age_30s', 'age_40s', 'age_50s', 'age_60s',\n",
       "       'age_70s', 'age_over_80', 'male', 'female', 'married', 'divorced',\n",
       "       'never_married', 'widowed', 'family_size', 'family_dual_income',\n",
       "       'income_household_median', 'income_household_under_5',\n",
       "       'income_household_5_to_10', 'income_household_10_to_15',\n",
       "       'income_household_15_to_20', 'income_household_20_to_25',\n",
       "       'income_household_25_to_35', 'income_household_35_to_50',\n",
       "       'income_household_50_to_75', 'income_household_75_to_100',\n",
       "       'income_household_100_to_150', 'income_household_150_over',\n",
       "       'income_household_six_figure', 'income_individual_median',\n",
       "       'home_ownership', 'housing_units', 'home_value', 'rent_median',\n",
       "       'rent_burden', 'education_less_highschool', 'education_highschool',\n",
       "       'education_some_college', 'education_bachelors', 'education_graduate',\n",
       "       'education_college_or_above', 'education_stem_degree',\n",
       "       'labor_force_participation', 'unemployment_rate', 'self_employed',\n",
       "       'farmer', 'race_white', 'race_black', 'race_asian', 'race_native',\n",
       "       'race_pacific', 'race_other', 'race_multiple', 'hispanic', 'disabled',\n",
       "       'poverty', 'limited_english', 'commute_time', 'health_uninsured',\n",
       "       'veteran', 'Ozone', 'PM25', 'N02', 'DiagPeriodL90D'],\n",
       "      dtype='object')"
      ]
     },
     "execution_count": 14,
     "metadata": {},
     "output_type": "execute_result"
    }
   ],
   "source": [
    "df_train_num.columns"
   ]
  },
  {
   "cell_type": "code",
   "execution_count": 22,
   "id": "629cfa2b-6fa4-451f-b166-9bd669f12a65",
   "metadata": {},
   "outputs": [],
   "source": [
    "df_train_num = df_train_num.dropna()"
   ]
  },
  {
   "cell_type": "code",
   "execution_count": 26,
   "id": "d3e8040e-87dd-48a3-9ccc-0f87f5f658cd",
   "metadata": {},
   "outputs": [
    {
     "name": "stdout",
     "output_type": "stream",
     "text": [
      "<class 'pandas.core.frame.DataFrame'>\n",
      "Index: 12873 entries, 0 to 12905\n",
      "Data columns (total 69 columns):\n",
      " #   Column                       Non-Null Count  Dtype  \n",
      "---  ------                       --------------  -----  \n",
      " 0   patient_age                  12873 non-null  int64  \n",
      " 1   population                   12873 non-null  float64\n",
      " 2   density                      12873 non-null  float64\n",
      " 3   age_median                   12873 non-null  float64\n",
      " 4   age_under_10                 12873 non-null  float64\n",
      " 5   age_10_to_19                 12873 non-null  float64\n",
      " 6   age_20s                      12873 non-null  float64\n",
      " 7   age_30s                      12873 non-null  float64\n",
      " 8   age_40s                      12873 non-null  float64\n",
      " 9   age_50s                      12873 non-null  float64\n",
      " 10  age_60s                      12873 non-null  float64\n",
      " 11  age_70s                      12873 non-null  float64\n",
      " 12  age_over_80                  12873 non-null  float64\n",
      " 13  male                         12873 non-null  float64\n",
      " 14  female                       12873 non-null  float64\n",
      " 15  married                      12873 non-null  float64\n",
      " 16  divorced                     12873 non-null  float64\n",
      " 17  never_married                12873 non-null  float64\n",
      " 18  widowed                      12873 non-null  float64\n",
      " 19  family_size                  12873 non-null  float64\n",
      " 20  family_dual_income           12873 non-null  float64\n",
      " 21  income_household_median      12873 non-null  float64\n",
      " 22  income_household_under_5     12873 non-null  float64\n",
      " 23  income_household_5_to_10     12873 non-null  float64\n",
      " 24  income_household_10_to_15    12873 non-null  float64\n",
      " 25  income_household_15_to_20    12873 non-null  float64\n",
      " 26  income_household_20_to_25    12873 non-null  float64\n",
      " 27  income_household_25_to_35    12873 non-null  float64\n",
      " 28  income_household_35_to_50    12873 non-null  float64\n",
      " 29  income_household_50_to_75    12873 non-null  float64\n",
      " 30  income_household_75_to_100   12873 non-null  float64\n",
      " 31  income_household_100_to_150  12873 non-null  float64\n",
      " 32  income_household_150_over    12873 non-null  float64\n",
      " 33  income_household_six_figure  12873 non-null  float64\n",
      " 34  income_individual_median     12873 non-null  float64\n",
      " 35  home_ownership               12873 non-null  float64\n",
      " 36  housing_units                12873 non-null  float64\n",
      " 37  home_value                   12873 non-null  float64\n",
      " 38  rent_median                  12873 non-null  float64\n",
      " 39  rent_burden                  12873 non-null  float64\n",
      " 40  education_less_highschool    12873 non-null  float64\n",
      " 41  education_highschool         12873 non-null  float64\n",
      " 42  education_some_college       12873 non-null  float64\n",
      " 43  education_bachelors          12873 non-null  float64\n",
      " 44  education_graduate           12873 non-null  float64\n",
      " 45  education_college_or_above   12873 non-null  float64\n",
      " 46  education_stem_degree        12873 non-null  float64\n",
      " 47  labor_force_participation    12873 non-null  float64\n",
      " 48  unemployment_rate            12873 non-null  float64\n",
      " 49  self_employed                12873 non-null  float64\n",
      " 50  farmer                       12873 non-null  float64\n",
      " 51  race_white                   12873 non-null  float64\n",
      " 52  race_black                   12873 non-null  float64\n",
      " 53  race_asian                   12873 non-null  float64\n",
      " 54  race_native                  12873 non-null  float64\n",
      " 55  race_pacific                 12873 non-null  float64\n",
      " 56  race_other                   12873 non-null  float64\n",
      " 57  race_multiple                12873 non-null  float64\n",
      " 58  hispanic                     12873 non-null  float64\n",
      " 59  disabled                     12873 non-null  float64\n",
      " 60  poverty                      12873 non-null  float64\n",
      " 61  limited_english              12873 non-null  float64\n",
      " 62  commute_time                 12873 non-null  float64\n",
      " 63  health_uninsured             12873 non-null  float64\n",
      " 64  veteran                      12873 non-null  float64\n",
      " 65  Ozone                        12873 non-null  float64\n",
      " 66  PM25                         12873 non-null  float64\n",
      " 67  N02                          12873 non-null  float64\n",
      " 68  DiagPeriodL90D               12873 non-null  int64  \n",
      "dtypes: float64(67), int64(2)\n",
      "memory usage: 6.9 MB\n"
     ]
    }
   ],
   "source": [
    "df_train_num.info()"
   ]
  },
  {
   "cell_type": "markdown",
   "id": "626b7113-19c0-42ef-9c64-7eee82d00bea",
   "metadata": {
    "jp-MarkdownHeadingCollapsed": true
   },
   "source": [
    "## Logistic Regression"
   ]
  },
  {
   "cell_type": "code",
   "execution_count": 28,
   "id": "e71788a1-5228-4a14-abf7-a63b3e8109ea",
   "metadata": {},
   "outputs": [],
   "source": [
    "X = df_train_num.drop(['DiagPeriodL90D'], axis = 1)\n",
    "y = df_train_num['DiagPeriodL90D']"
   ]
  },
  {
   "cell_type": "code",
   "execution_count": 30,
   "id": "b8d2c65b-2591-429a-a687-5df64392e7c4",
   "metadata": {},
   "outputs": [],
   "source": [
    "from sklearn.model_selection import train_test_split\n",
    "X_train, X_val, y_train, y_val = train_test_split(X, y, test_size=0.2, random_state=42)"
   ]
  },
  {
   "cell_type": "code",
   "execution_count": 32,
   "id": "7ffa2ff7-8ef8-4c10-95ac-4302bbc09e39",
   "metadata": {},
   "outputs": [
    {
     "name": "stderr",
     "output_type": "stream",
     "text": [
      "/opt/anaconda3/lib/python3.11/site-packages/sklearn/linear_model/_sag.py:350: ConvergenceWarning: The max_iter was reached which means the coef_ did not converge\n",
      "  warnings.warn(\n"
     ]
    },
    {
     "data": {
      "text/html": [
       "<style>#sk-container-id-1 {color: black;background-color: white;}#sk-container-id-1 pre{padding: 0;}#sk-container-id-1 div.sk-toggleable {background-color: white;}#sk-container-id-1 label.sk-toggleable__label {cursor: pointer;display: block;width: 100%;margin-bottom: 0;padding: 0.3em;box-sizing: border-box;text-align: center;}#sk-container-id-1 label.sk-toggleable__label-arrow:before {content: \"▸\";float: left;margin-right: 0.25em;color: #696969;}#sk-container-id-1 label.sk-toggleable__label-arrow:hover:before {color: black;}#sk-container-id-1 div.sk-estimator:hover label.sk-toggleable__label-arrow:before {color: black;}#sk-container-id-1 div.sk-toggleable__content {max-height: 0;max-width: 0;overflow: hidden;text-align: left;background-color: #f0f8ff;}#sk-container-id-1 div.sk-toggleable__content pre {margin: 0.2em;color: black;border-radius: 0.25em;background-color: #f0f8ff;}#sk-container-id-1 input.sk-toggleable__control:checked~div.sk-toggleable__content {max-height: 200px;max-width: 100%;overflow: auto;}#sk-container-id-1 input.sk-toggleable__control:checked~label.sk-toggleable__label-arrow:before {content: \"▾\";}#sk-container-id-1 div.sk-estimator input.sk-toggleable__control:checked~label.sk-toggleable__label {background-color: #d4ebff;}#sk-container-id-1 div.sk-label input.sk-toggleable__control:checked~label.sk-toggleable__label {background-color: #d4ebff;}#sk-container-id-1 input.sk-hidden--visually {border: 0;clip: rect(1px 1px 1px 1px);clip: rect(1px, 1px, 1px, 1px);height: 1px;margin: -1px;overflow: hidden;padding: 0;position: absolute;width: 1px;}#sk-container-id-1 div.sk-estimator {font-family: monospace;background-color: #f0f8ff;border: 1px dotted black;border-radius: 0.25em;box-sizing: border-box;margin-bottom: 0.5em;}#sk-container-id-1 div.sk-estimator:hover {background-color: #d4ebff;}#sk-container-id-1 div.sk-parallel-item::after {content: \"\";width: 100%;border-bottom: 1px solid gray;flex-grow: 1;}#sk-container-id-1 div.sk-label:hover label.sk-toggleable__label {background-color: #d4ebff;}#sk-container-id-1 div.sk-serial::before {content: \"\";position: absolute;border-left: 1px solid gray;box-sizing: border-box;top: 0;bottom: 0;left: 50%;z-index: 0;}#sk-container-id-1 div.sk-serial {display: flex;flex-direction: column;align-items: center;background-color: white;padding-right: 0.2em;padding-left: 0.2em;position: relative;}#sk-container-id-1 div.sk-item {position: relative;z-index: 1;}#sk-container-id-1 div.sk-parallel {display: flex;align-items: stretch;justify-content: center;background-color: white;position: relative;}#sk-container-id-1 div.sk-item::before, #sk-container-id-1 div.sk-parallel-item::before {content: \"\";position: absolute;border-left: 1px solid gray;box-sizing: border-box;top: 0;bottom: 0;left: 50%;z-index: -1;}#sk-container-id-1 div.sk-parallel-item {display: flex;flex-direction: column;z-index: 1;position: relative;background-color: white;}#sk-container-id-1 div.sk-parallel-item:first-child::after {align-self: flex-end;width: 50%;}#sk-container-id-1 div.sk-parallel-item:last-child::after {align-self: flex-start;width: 50%;}#sk-container-id-1 div.sk-parallel-item:only-child::after {width: 0;}#sk-container-id-1 div.sk-dashed-wrapped {border: 1px dashed gray;margin: 0 0.4em 0.5em 0.4em;box-sizing: border-box;padding-bottom: 0.4em;background-color: white;}#sk-container-id-1 div.sk-label label {font-family: monospace;font-weight: bold;display: inline-block;line-height: 1.2em;}#sk-container-id-1 div.sk-label-container {text-align: center;}#sk-container-id-1 div.sk-container {/* jupyter's `normalize.less` sets `[hidden] { display: none; }` but bootstrap.min.css set `[hidden] { display: none !important; }` so we also need the `!important` here to be able to override the default hidden behavior on the sphinx rendered scikit-learn.org. See: https://github.com/scikit-learn/scikit-learn/issues/21755 */display: inline-block !important;position: relative;}#sk-container-id-1 div.sk-text-repr-fallback {display: none;}</style><div id=\"sk-container-id-1\" class=\"sk-top-container\"><div class=\"sk-text-repr-fallback\"><pre>LogisticRegression(max_iter=1000, solver=&#x27;sag&#x27;)</pre><b>In a Jupyter environment, please rerun this cell to show the HTML representation or trust the notebook. <br />On GitHub, the HTML representation is unable to render, please try loading this page with nbviewer.org.</b></div><div class=\"sk-container\" hidden><div class=\"sk-item\"><div class=\"sk-estimator sk-toggleable\"><input class=\"sk-toggleable__control sk-hidden--visually\" id=\"sk-estimator-id-1\" type=\"checkbox\" checked><label for=\"sk-estimator-id-1\" class=\"sk-toggleable__label sk-toggleable__label-arrow\">LogisticRegression</label><div class=\"sk-toggleable__content\"><pre>LogisticRegression(max_iter=1000, solver=&#x27;sag&#x27;)</pre></div></div></div></div></div>"
      ],
      "text/plain": [
       "LogisticRegression(max_iter=1000, solver='sag')"
      ]
     },
     "execution_count": 32,
     "metadata": {},
     "output_type": "execute_result"
    }
   ],
   "source": [
    "from sklearn.linear_model import LogisticRegression\n",
    "\n",
    "# Initialize the classifier\n",
    "log_reg = LogisticRegression(max_iter=1000, solver='sag')\n",
    "\n",
    "# Train the classifier\n",
    "log_reg.fit(X_train, y_train)"
   ]
  },
  {
   "cell_type": "code",
   "execution_count": 34,
   "id": "95a033dd-1855-4cca-a6b8-2ba11a7403b8",
   "metadata": {},
   "outputs": [
    {
     "name": "stderr",
     "output_type": "stream",
     "text": [
      "/opt/anaconda3/lib/python3.11/site-packages/sklearn/linear_model/_sag.py:350: ConvergenceWarning: The max_iter was reached which means the coef_ did not converge\n",
      "  warnings.warn(\n",
      "/opt/anaconda3/lib/python3.11/site-packages/sklearn/linear_model/_sag.py:350: ConvergenceWarning: The max_iter was reached which means the coef_ did not converge\n",
      "  warnings.warn(\n",
      "/opt/anaconda3/lib/python3.11/site-packages/sklearn/linear_model/_sag.py:350: ConvergenceWarning: The max_iter was reached which means the coef_ did not converge\n",
      "  warnings.warn(\n",
      "/opt/anaconda3/lib/python3.11/site-packages/sklearn/linear_model/_sag.py:350: ConvergenceWarning: The max_iter was reached which means the coef_ did not converge\n",
      "  warnings.warn(\n"
     ]
    },
    {
     "name": "stdout",
     "output_type": "stream",
     "text": [
      "Cross-validation scores: [0.6223301  0.62378641 0.62184466 0.62117533 0.62068966]\n",
      "Mean cross-validation score: 0.6219652296100001\n"
     ]
    }
   ],
   "source": [
    "from sklearn.model_selection import cross_val_score\n",
    "#Perform 5-fold cross-validation\n",
    "cv_scores = cross_val_score(log_reg, X_train, y_train, cv=5)\n",
    "\n",
    "print(\"Cross-validation scores:\", cv_scores)\n",
    "print(\"Mean cross-validation score:\", cv_scores.mean())"
   ]
  },
  {
   "cell_type": "code",
   "execution_count": 36,
   "id": "50ff99d1-5a69-4d4a-ab07-d7bfb3ca1b8e",
   "metadata": {},
   "outputs": [
    {
     "name": "stdout",
     "output_type": "stream",
     "text": [
      "Accuracy: 0.6283495145631068\n",
      "Precision: 0.6299646087298466\n",
      "Recall: 0.9901112484548825\n",
      "F1 Score: 0.7700072098053352\n",
      "Confusion Matrix:\n",
      " [[  16  941]\n",
      " [  16 1602]]\n"
     ]
    }
   ],
   "source": [
    "from sklearn.metrics import accuracy_score, precision_score, recall_score, f1_score, confusion_matrix\n",
    "\n",
    "# Make predictions on the test set\n",
    "y_pred = log_reg.predict(X_val)\n",
    "\n",
    "# Calculate evaluation metrics\n",
    "accuracy = accuracy_score(y_val, y_pred)\n",
    "precision = precision_score(y_val, y_pred)\n",
    "recall = recall_score(y_val, y_pred)\n",
    "f1 = f1_score(y_val, y_pred)\n",
    "confusion = confusion_matrix(y_val, y_pred)\n",
    "\n",
    "# Print the evaluation metrics\n",
    "print(\"Accuracy:\", accuracy)\n",
    "print(\"Precision:\", precision)\n",
    "print(\"Recall:\", recall)\n",
    "print(\"F1 Score:\", f1)\n",
    "print(\"Confusion Matrix:\\n\", confusion)"
   ]
  },
  {
   "cell_type": "markdown",
   "id": "b9d49f49-8906-413e-abc1-927b27bdcd34",
   "metadata": {},
   "source": [
    "## Decision Trees"
   ]
  },
  {
   "cell_type": "code",
   "execution_count": null,
   "id": "eee4ec0a-e206-4875-853e-f076d34ec0e7",
   "metadata": {},
   "outputs": [],
   "source": []
  }
 ],
 "metadata": {
  "kernelspec": {
   "display_name": "Python 3 (ipykernel)",
   "language": "python",
   "name": "python3"
  },
  "language_info": {
   "codemirror_mode": {
    "name": "ipython",
    "version": 3
   },
   "file_extension": ".py",
   "mimetype": "text/x-python",
   "name": "python",
   "nbconvert_exporter": "python",
   "pygments_lexer": "ipython3",
   "version": "3.11.7"
  },
  "widgets": {
   "application/vnd.jupyter.widget-state+json": {
    "state": {},
    "version_major": 2,
    "version_minor": 0
   }
  }
 },
 "nbformat": 4,
 "nbformat_minor": 5
}
